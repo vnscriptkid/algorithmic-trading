{
 "cells": [
  {
   "cell_type": "code",
   "execution_count": null,
   "id": "d0dd2f2f-70ac-4a5b-a6dc-692335da2707",
   "metadata": {},
   "outputs": [
    {
     "name": "stdout",
     "output_type": "stream",
     "text": [
      "hello\n"
     ]
    }
   ],
   "source": [
    "import yfinance as yf\n",
    "import pandas as pd\n",
    "\n",
    "print('hello')\n",
    "\n",
    "# Define the ticker symbol for Tesla\n",
    "ticker_symbol = \"TSLA\"\n",
    "\n",
    "# Create a Ticker object\n",
    "tesla = yf.Ticker(ticker_symbol)\n",
    "\n",
    "# Fetch the data for the year 2023\n",
    "start_date = \"2023-01-01\"\n",
    "end_date = \"2023-12-31\"\n",
    "tesla_data_2023 = tesla.history(start=start_date, end=end_date)\n",
    "\n",
    "# Display the first few rows of the data\n",
    "print(tesla_data_2023.head())\n",
    "\n",
    "# Display basic information about the dataset\n",
    "print(tesla_data_2023.info())\n",
    "\n",
    "# Save the data to a CSV file (optional)\n",
    "# tesla_data_2023.to_csv(\"tesla_data_2023.csv\")"
   ]
  },
  {
   "cell_type": "code",
   "execution_count": null,
   "id": "15539f44-e012-4687-9835-295c8ee45707",
   "metadata": {},
   "outputs": [],
   "source": []
  }
 ],
 "metadata": {
  "kernelspec": {
   "display_name": "Python 3 (ipykernel)",
   "language": "python",
   "name": "python3"
  },
  "language_info": {
   "codemirror_mode": {
    "name": "ipython",
    "version": 3
   },
   "file_extension": ".py",
   "mimetype": "text/x-python",
   "name": "python",
   "nbconvert_exporter": "python",
   "pygments_lexer": "ipython3",
   "version": "3.12.3"
  }
 },
 "nbformat": 4,
 "nbformat_minor": 5
}
